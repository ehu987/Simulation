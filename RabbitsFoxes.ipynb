{
 "cells": [
  {
   "cell_type": "code",
   "execution_count": 307,
   "metadata": {},
   "outputs": [],
   "source": [
    "import numpy as np \n",
    "import matplotlib.pyplot as plt \n",
    "import scipy as sp \n",
    "import matplotlib.animation as animation"
   ]
  },
  {
   "cell_type": "code",
   "execution_count": 4,
   "metadata": {},
   "outputs": [],
   "source": [
    "foxes = 10 \n",
    "rabbits = 100"
   ]
  },
  {
   "cell_type": "code",
   "execution_count": 7,
   "metadata": {},
   "outputs": [
    {
     "data": {
      "text/plain": [
       "array([0.        , 0.11111111, 0.22222222, 0.33333333, 0.44444444,\n",
       "       0.55555556, 0.66666667, 0.77777778, 0.88888889, 1.        ])"
      ]
     },
     "execution_count": 7,
     "metadata": {},
     "output_type": "execute_result"
    }
   ],
   "source": [
    "t = np.linspace(0,1,10)\n"
   ]
  },
  {
   "cell_type": "code",
   "execution_count": 85,
   "metadata": {},
   "outputs": [],
   "source": [
    "def simulate(f_0, r_0):\n",
    "    t = np.linspace(0, 2, 2)\n",
    "    rabbits = np.empty([len(t)])\n",
    "    foxes = np.empty([len(t)])\n",
    "    \n",
    "    rabbits[0] = r_0\n",
    "    foxes[0] = f_0\n",
    "    print(rabbits)\n",
    "    print(foxes)\n",
    "    for i in range(len(t)-1):\n",
    "        print(i)\n",
    "        dR = 0.002*rabbits[i] - 0.2*foxes[i]*rabbits[i]\n",
    "        dF = 0.2*foxes*rabbits[i] - 0.5*foxes[i] \n",
    "        rabbits[i+1] = rabbits[i] + dR\n",
    "        foxes[i+1] = foxes[i] + dF\n",
    "    plt.plot(t,foxes, 'ro')\n",
    "    plt.plot(t, rabbits, 'bo')"
   ]
  },
  {
   "cell_type": "code",
   "execution_count": 86,
   "metadata": {},
   "outputs": [
    {
     "data": {
      "text/plain": [
       "array([ 0.1 ,  0.2 ,  0.25,  0.5 ,  1.  ,  2.  ,  2.5 ,  5.  , 10.  ,\n",
       "       20.  ])"
      ]
     },
     "execution_count": 86,
     "metadata": {},
     "output_type": "execute_result"
    }
   ],
   "source": [
    "rabbits = np.empty([10,])\n",
    "rabbits"
   ]
  },
  {
   "cell_type": "code",
   "execution_count": 88,
   "metadata": {},
   "outputs": [],
   "source": [
    "rabbits[1] = rabbits[0] + 10"
   ]
  },
  {
   "cell_type": "code",
   "execution_count": 153,
   "metadata": {},
   "outputs": [
    {
     "data": {
      "text/plain": [
       "[<matplotlib.lines.Line2D at 0x249b2a34048>]"
      ]
     },
     "execution_count": 153,
     "metadata": {},
     "output_type": "execute_result"
    },
    {
     "data": {
      "image/png": "[encoded data removed]",
      "text/plain": [
       "<Figure size 432x288 with 1 Axes>"
      ]
     },
     "metadata": {
      "needs_background": "light"
     },
     "output_type": "display_data"
    }
   ],
   "source": [
    "r_0 = 9000\n",
    "f_0 = 200\n",
    "t = np.linspace(0, 1, 100000)\n",
    "rabbits = np.empty([len(t)])\n",
    "foxes = np.empty([len(t)])\n",
    "\n",
    "rabbits[0] = r_0\n",
    "foxes[0] = f_0\n",
    "for i in range(len(t)-1):    \n",
    "    dR = 6/f_0*rabbits[i] - 10/(r_0*f_0)*foxes[i]*rabbits[i]\n",
    "    dF = 0.1/(f_0*r_0)*foxes[i]*rabbits[i] - 0.15*foxes[i]/f_0 \n",
    "    rabbits[i+1] = rabbits[i] + dR\n",
    "    foxes[i+1] = foxes[i] + dF\n",
    "plt.plot(t,(foxes), 'ro')\n",
    "plt.plot(t, (rabbits), 'bo')"
   ]
  },
  {
   "cell_type": "code",
   "execution_count": 161,
   "metadata": {},
   "outputs": [
    {
     "data": {
      "text/plain": [
       "array([0.47592865, 0.37145825])"
      ]
     },
     "execution_count": 161,
     "metadata": {},
     "output_type": "execute_result"
    }
   ],
   "source": [
    "np.random.rand(2)"
   ]
  },
  {
   "cell_type": "code",
   "execution_count": 301,
   "metadata": {},
   "outputs": [],
   "source": [
    "class Rabbit: \n",
    "    def __init__(self, v, ax):\n",
    "        self.v = v #how fast the rabbit is\n",
    "        self.ax = ax\n",
    "        self.fear = 1\n",
    "        self.alive = True\n",
    "        self.terror = False \n",
    "        \n",
    "    # state functions \n",
    "    def born(self):\n",
    "        self.x = np.random.rand(1)\n",
    "        self.y = np.random.rand(1)\n",
    "    def move(self):\n",
    "        if self.terror:\n",
    "            theta = self.angle(self.predator)\n",
    "        else:\n",
    "            theta = 2*np.pi*np.random.rand(1)\n",
    "        self.x = self.x + np.cos(theta)*self.v*self.fear\n",
    "        self.y = self.y + np.sin(theta)*self.v*self.fear\n",
    "    def aware(self, f):\n",
    "        self.predator = f\n",
    "        self.terror = True\n",
    "    \n",
    "    def die(self):\n",
    "        self.alive = False\n",
    "    \n",
    "    \n",
    "    def dist(self, f):\n",
    "        return np.sqrt((self.x - f.x)**2 + (self.y - f.y)**2)\n",
    "    def angle(self, f):\n",
    "        return np.arctan((self.y - f.y)/(self.x - f.x))\n",
    "    \n",
    "    def show(self):\n",
    "        if self.alive:\n",
    "            self.ax.plot(self.x, self.y, 'b*')\n",
    "            \n",
    "    \n",
    "            \n",
    "\n",
    "class Fox: \n",
    "    def __init__(self, v, ax):\n",
    "        self.v = v #how fast the rabbit is\n",
    "        self.ax = ax\n",
    "        self.hunger = 1\n",
    "        self.alive = True\n",
    "        self.hunt = False\n",
    "        \n",
    "    # state functions\n",
    "    def born(self):\n",
    "        self.x = np.random.rand(1)\n",
    "        self.y = np.random.rand(1)\n",
    "    def target(self, r):\n",
    "        self.prey = r\n",
    "        self.hunt = True\n",
    "    def status(self, t):\n",
    "        self.hunger = self.hunger*1.15\n",
    "    \n",
    "    # action functions\n",
    "    def move(self):\n",
    "        if self.hunt: \n",
    "            theta = self.angle(self.prey) \n",
    "        else:\n",
    "            theta = 2*np.pi*np.random.rand(1)\n",
    "        self.x = self.x + np.cos(theta)*self.v*self.hunger\n",
    "        self.y = self.y + np.sin(theta)*self.v*self.hunger  \n",
    "        \n",
    "    def die(self):\n",
    "        self.alive = False\n",
    "\n",
    "    #helper functions\n",
    "    def dist(self, r):\n",
    "        return np.sqrt((self.x - r.x)**2 + (self.y - r.y)**2)\n",
    "    def angle(self, r):\n",
    "        return np.arctan((self.y - r.y)/(self.x - r.x))\n",
    "    \n",
    "    def show(self):\n",
    "        if self.alive:\n",
    "            self.ax.plot(self.x, self.y, 'r^')\n",
    "        \n",
    "def interact(f, r):\n",
    "    if ((MSE(f,r))>= 0.1) & ((MSE(f,r))< 1):\n",
    "        if f.hunt == False:\n",
    "            print('hunt started')\n",
    "            f.target(r)\n",
    "    if ((MSE(f,r))>= 0.1) & ((MSE(f,r))< 0.5):\n",
    "        if r.terror == False:\n",
    "            print('prey terrified')\n",
    "            r.aware(f)\n",
    "    \n",
    "    if (MSE(f,r))< 0.1:\n",
    "        f.die()\n",
    "        r.die()\n",
    "    \n",
    "\n",
    "    "
   ]
  },
  {
   "cell_type": "code",
   "execution_count": 334,
   "metadata": {},
   "outputs": [
    {
     "name": "stdout",
     "output_type": "stream",
     "text": [
      "0.3030865239172744\n"
     ]
    },
    {
     "data": {
      "image/png": "[encoded data removed]",
      "text/plain": [
       "<Figure size 432x288 with 1 Axes>"
      ]
     },
     "metadata": {
      "needs_background": "light"
     },
     "output_type": "display_data"
    }
   ],
   "source": [
    "fig, ax = plt.subplots(1,1)\n",
    "r = Rabbit(0.5, ax)\n",
    "f = Fox(0.1, ax)\n",
    "f.born()\n",
    "r.born()\n",
    "\n",
    "f_loc = np.empty([10, 2])\n",
    "for i in range(10):\n",
    "    f.move()\n",
    "    f_loc[i, 0] = f.x\n",
    "    f_loc[i, 1]= f.y\n",
    "print(f_loc[3, 1])"
   ]
  },
  {
   "cell_type": "code",
   "execution_count": null,
   "metadata": {},
   "outputs": [],
   "source": []
  }
 ],
 "metadata": {
  "kernelspec": {
   "display_name": "Python 3",
   "language": "python",
   "name": "python3"
  },
  "language_info": {
   "codemirror_mode": {
    "name": "ipython",
    "version": 3
   },
   "file_extension": ".py",
   "mimetype": "text/x-python",
   "name": "python",
   "nbconvert_exporter": "python",
   "pygments_lexer": "ipython3",
   "version": "3.7.1"
  }
 },
 "nbformat": 4,
 "nbformat_minor": 4
}
